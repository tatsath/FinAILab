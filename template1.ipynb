{
 "cells": [
  {
   "cell_type": "markdown",
   "metadata": {},
   "source": [
    "<img alt=\"Quanturf logo\" src=\"quanturf.png\">"
   ]
  },
  {
   "cell_type": "markdown",
   "metadata": {},
   "source": [
    "# Welcome to Quanturf! \n",
    "\n",
    "### Start with this 5-minute interactive tour for new users:\n",
    "\n",
    "1. [Python API first steps](Python-Intro.ipynb) - Intro to QuantUrf's Python API\n",
    "2. [CLI first steps](CLI-Intro.ipynb) - Get to know the command line interface\n",
    "3. [Logging first steps](Logging-Intro.ipynb) - Learn how logging works\n",
    "4. [Clone sample code](Clone-Intro.ipynb) - Get some code into your deployment\n",
    "5. [Code Editor](Code-Editor.ipynb) - Intro to the Eclipse Theia Code Editor"
   ]
  },
  {
   "cell_type": "markdown",
   "metadata": {
    "tags": []
   },
   "source": [
    "### Activate the software:\n",
    "\n",
    "* [Enter your license key](Activate.ipynb) - Use the Python API to enter your license key"
   ]
  },
  {
   "cell_type": "markdown",
   "metadata": {},
   "source": [
    "### Go deeper with a full tutorial:\n",
    "\n",
    "Visit the [Code library](https://finailab.com/) to find step-by-step interactive tutorials that you can clone into your deployment. The tutorials below do not require a QuantUrf subscription."
   ]
  },
  {
   "cell_type": "markdown",
   "metadata": {
    "tags": []
   },
   "source": [
    "#### Equities\n",
    "\n",
    "##### Equities Intro\n",
    "\n",
    "Introductory tutorial for equities demonstrating data collection, universe selection, and backtesting of an end-of-day momentum strategy using Moonshot. Free sample data available."
   ]
  },
  {
   "cell_type": "code",
   "execution_count": null,
   "metadata": {},
   "outputs": [],
   "source": [
    "from git import Repo\n",
    "src=input(\"Enter the name of the repository : \")\n",
    "directory=input(\"Enter name of the directory: \")\n",
    "Repo.clone_from(src, directory)"
   ]
  }
 ],
 "metadata": {
  "kernelspec": {
   "display_name": "Python 3",
   "language": "python",
   "name": "python3"
  },
  "language_info": {
   "codemirror_mode": {
    "name": "ipython",
    "version": 3
   },
   "file_extension": ".py",
   "mimetype": "text/x-python",
   "name": "python",
   "nbconvert_exporter": "python",
   "pygments_lexer": "ipython3",
   "version": "3.8.3"
  }
 },
 "nbformat": 4,
 "nbformat_minor": 4
}
